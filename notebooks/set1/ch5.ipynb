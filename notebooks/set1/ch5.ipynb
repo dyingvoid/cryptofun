{
 "cells": [
  {
   "cell_type": "code",
   "execution_count": 6,
   "id": "initial_id",
   "metadata": {
    "collapsed": true,
    "ExecuteTime": {
     "end_time": "2024-06-02T01:33:14.606146Z",
     "start_time": "2024-06-02T01:33:14.589487400Z"
    }
   },
   "outputs": [],
   "source": [
    "plain = \"Burning 'em, if you ain't quick and nimble\\nI go crazy when I hear a cymbal\"\n",
    "key = 'ICE'\n",
    "check_cipher = '0b3637272a2b2e63622c2e69692a23693a2a3c6324202d623d63343c2a26226324272765272a282b2f20430a652e2c652a3124333a653e2b2027630c692b20283165286326302e27282f'"
   ]
  },
  {
   "cell_type": "code",
   "outputs": [],
   "source": [
    "def encrypt(plaintext, key):\n",
    "    plain_bytes = plaintext.encode('utf-8')\n",
    "    key_bytes = key.encode('utf-8')\n",
    "    return bytearray(\n",
    "        plain_bytes[i] ^ key_bytes[i % len(key_bytes)]\n",
    "        for i in range(len(plain_bytes))\n",
    "    )"
   ],
   "metadata": {
    "collapsed": false,
    "ExecuteTime": {
     "end_time": "2024-06-02T01:45:54.112906Z",
     "start_time": "2024-06-02T01:45:54.098646500Z"
    }
   },
   "id": "112f465dc51a1d01",
   "execution_count": 31
  },
  {
   "cell_type": "code",
   "outputs": [],
   "source": [
    "cipher = encrypt(plain, key)"
   ],
   "metadata": {
    "collapsed": false,
    "ExecuteTime": {
     "end_time": "2024-06-02T01:45:56.171163500Z",
     "start_time": "2024-06-02T01:45:56.158619Z"
    }
   },
   "id": "40d00dc96dc1d1aa",
   "execution_count": 32
  },
  {
   "cell_type": "code",
   "outputs": [
    {
     "data": {
      "text/plain": "True"
     },
     "execution_count": 33,
     "metadata": {},
     "output_type": "execute_result"
    }
   ],
   "source": [
    "cipher.hex() == check_cipher"
   ],
   "metadata": {
    "collapsed": false,
    "ExecuteTime": {
     "end_time": "2024-06-02T01:45:58.073182200Z",
     "start_time": "2024-06-02T01:45:58.063483300Z"
    }
   },
   "id": "91c4641fe6d44103",
   "execution_count": 33
  }
 ],
 "metadata": {
  "kernelspec": {
   "display_name": "Python 3",
   "language": "python",
   "name": "python3"
  },
  "language_info": {
   "codemirror_mode": {
    "name": "ipython",
    "version": 2
   },
   "file_extension": ".py",
   "mimetype": "text/x-python",
   "name": "python",
   "nbconvert_exporter": "python",
   "pygments_lexer": "ipython2",
   "version": "2.7.6"
  }
 },
 "nbformat": 4,
 "nbformat_minor": 5
}
