{
 "cells": [
  {
   "cell_type": "code",
   "execution_count": 26,
   "id": "initial_id",
   "metadata": {
    "collapsed": true,
    "ExecuteTime": {
     "end_time": "2024-06-01T17:20:49.700418400Z",
     "start_time": "2024-06-01T17:20:48.984190800Z"
    }
   },
   "outputs": [],
   "source": [
    "import pandas as pd\n",
    "import json\n",
    "import numpy as np\n",
    "from scipy import stats"
   ]
  },
  {
   "cell_type": "code",
   "outputs": [],
   "source": [
    "with open('../data/letter_frequency.json', 'r') as file:\n",
    "    frequency = json.load(file)\n",
    "    frequency = pd.Series(frequency).to_frame()\n",
    "    frequency['letter'] = frequency.index\n",
    "    frequency['prob'] = frequency[0] / 100\n",
    "    frequency.index = np.arange(0, len(frequency))\n",
    "    frequency = frequency.drop(columns=[0])"
   ],
   "metadata": {
    "collapsed": false,
    "ExecuteTime": {
     "end_time": "2024-06-01T16:38:34.453302500Z",
     "start_time": "2024-06-01T16:38:34.415209200Z"
    }
   },
   "id": "adad31068b2269f6",
   "execution_count": 2
  },
  {
   "cell_type": "code",
   "outputs": [
    {
     "data": {
      "text/plain": "   letter     prob\n0       a  0.08167\n1       b  0.01492\n2       c  0.02782\n3       d  0.04253\n4       e  0.12702\n5       f  0.02228\n6       g  0.02015\n7       h  0.06094\n8       i  0.06966\n9       j  0.00153\n10      k  0.00772\n11      l  0.04025\n12      m  0.02406\n13      n  0.06749\n14      o  0.07507\n15      p  0.01929\n16      q  0.00095\n17      r  0.05987\n18      s  0.06327\n19      t  0.09056\n20      u  0.02758\n21      v  0.00978\n22      w  0.02360\n23      x  0.00150\n24      y  0.01974\n25      z  0.00074",
      "text/html": "<div>\n<style scoped>\n    .dataframe tbody tr th:only-of-type {\n        vertical-align: middle;\n    }\n\n    .dataframe tbody tr th {\n        vertical-align: top;\n    }\n\n    .dataframe thead th {\n        text-align: right;\n    }\n</style>\n<table border=\"1\" class=\"dataframe\">\n  <thead>\n    <tr style=\"text-align: right;\">\n      <th></th>\n      <th>letter</th>\n      <th>prob</th>\n    </tr>\n  </thead>\n  <tbody>\n    <tr>\n      <th>0</th>\n      <td>a</td>\n      <td>0.08167</td>\n    </tr>\n    <tr>\n      <th>1</th>\n      <td>b</td>\n      <td>0.01492</td>\n    </tr>\n    <tr>\n      <th>2</th>\n      <td>c</td>\n      <td>0.02782</td>\n    </tr>\n    <tr>\n      <th>3</th>\n      <td>d</td>\n      <td>0.04253</td>\n    </tr>\n    <tr>\n      <th>4</th>\n      <td>e</td>\n      <td>0.12702</td>\n    </tr>\n    <tr>\n      <th>5</th>\n      <td>f</td>\n      <td>0.02228</td>\n    </tr>\n    <tr>\n      <th>6</th>\n      <td>g</td>\n      <td>0.02015</td>\n    </tr>\n    <tr>\n      <th>7</th>\n      <td>h</td>\n      <td>0.06094</td>\n    </tr>\n    <tr>\n      <th>8</th>\n      <td>i</td>\n      <td>0.06966</td>\n    </tr>\n    <tr>\n      <th>9</th>\n      <td>j</td>\n      <td>0.00153</td>\n    </tr>\n    <tr>\n      <th>10</th>\n      <td>k</td>\n      <td>0.00772</td>\n    </tr>\n    <tr>\n      <th>11</th>\n      <td>l</td>\n      <td>0.04025</td>\n    </tr>\n    <tr>\n      <th>12</th>\n      <td>m</td>\n      <td>0.02406</td>\n    </tr>\n    <tr>\n      <th>13</th>\n      <td>n</td>\n      <td>0.06749</td>\n    </tr>\n    <tr>\n      <th>14</th>\n      <td>o</td>\n      <td>0.07507</td>\n    </tr>\n    <tr>\n      <th>15</th>\n      <td>p</td>\n      <td>0.01929</td>\n    </tr>\n    <tr>\n      <th>16</th>\n      <td>q</td>\n      <td>0.00095</td>\n    </tr>\n    <tr>\n      <th>17</th>\n      <td>r</td>\n      <td>0.05987</td>\n    </tr>\n    <tr>\n      <th>18</th>\n      <td>s</td>\n      <td>0.06327</td>\n    </tr>\n    <tr>\n      <th>19</th>\n      <td>t</td>\n      <td>0.09056</td>\n    </tr>\n    <tr>\n      <th>20</th>\n      <td>u</td>\n      <td>0.02758</td>\n    </tr>\n    <tr>\n      <th>21</th>\n      <td>v</td>\n      <td>0.00978</td>\n    </tr>\n    <tr>\n      <th>22</th>\n      <td>w</td>\n      <td>0.02360</td>\n    </tr>\n    <tr>\n      <th>23</th>\n      <td>x</td>\n      <td>0.00150</td>\n    </tr>\n    <tr>\n      <th>24</th>\n      <td>y</td>\n      <td>0.01974</td>\n    </tr>\n    <tr>\n      <th>25</th>\n      <td>z</td>\n      <td>0.00074</td>\n    </tr>\n  </tbody>\n</table>\n</div>"
     },
     "execution_count": 3,
     "metadata": {},
     "output_type": "execute_result"
    }
   ],
   "source": [
    "frequency"
   ],
   "metadata": {
    "collapsed": false,
    "ExecuteTime": {
     "end_time": "2024-06-01T16:38:34.498202200Z",
     "start_time": "2024-06-01T16:38:34.443139600Z"
    }
   },
   "id": "7ae989ef87fa563",
   "execution_count": 3
  },
  {
   "cell_type": "code",
   "outputs": [],
   "source": [
    "cipher = '1b37373331363f78151b7f2b783431333d78397828372d363c78373e783a393b3736'\n",
    "ascii_cipher = bytearray.fromhex(cipher).decode()\n",
    "unique_letters = ''.join(set(ascii_cipher))\n",
    "arr_cipher = np.array([ascii_cipher.count(c) / len(ascii_cipher) for c in unique_letters])"
   ],
   "metadata": {
    "collapsed": false,
    "ExecuteTime": {
     "end_time": "2024-06-01T17:55:32.399255300Z",
     "start_time": "2024-06-01T17:55:32.392856400Z"
    }
   },
   "id": "3160b1e63ac223f",
   "execution_count": 54
  },
  {
   "cell_type": "code",
   "outputs": [
    {
     "data": {
      "text/plain": "(array([15,  3, 12,  9, 10,  0, 14, 13, 11, 17,  8,  7,  6,  5,  4, 16,  2,\n         1, 18], dtype=int64),\n array([0.17647059, 0.14705882, 0.08823529, 0.05882353, 0.05882353,\n        0.05882353, 0.05882353, 0.02941176, 0.02941176, 0.02941176,\n        0.02941176, 0.02941176, 0.02941176, 0.02941176, 0.02941176,\n        0.02941176, 0.02941176, 0.02941176, 0.02941176]))"
     },
     "execution_count": 182,
     "metadata": {},
     "output_type": "execute_result"
    }
   ],
   "source": [
    "np.argsort(arr_cipher)[::-1], np.sort(arr_cipher)[::-1]"
   ],
   "metadata": {
    "collapsed": false,
    "ExecuteTime": {
     "end_time": "2024-06-01T19:39:28.528174Z",
     "start_time": "2024-06-01T19:39:28.520974900Z"
    }
   },
   "id": "daddf2e8b1abc762",
   "execution_count": 182
  },
  {
   "cell_type": "code",
   "outputs": [
    {
     "data": {
      "text/plain": "'x'"
     },
     "execution_count": 180,
     "metadata": {},
     "output_type": "execute_result"
    }
   ],
   "source": [
    "unique_letters[15]"
   ],
   "metadata": {
    "collapsed": false,
    "ExecuteTime": {
     "end_time": "2024-06-01T19:38:11.085840Z",
     "start_time": "2024-06-01T19:38:11.079609600Z"
    }
   },
   "id": "f0f3c7fedbf2ec2",
   "execution_count": 180
  },
  {
   "cell_type": "code",
   "outputs": [],
   "source": [
    "def find_letter(letter_prob, df):\n",
    "    prob_arr = np.array(df.prob)\n",
    "    argmin_distance = np.argmin(np.abs(letter_prob - prob_arr))\n",
    "    return df.iloc[argmin_distance]"
   ],
   "metadata": {
    "collapsed": false,
    "ExecuteTime": {
     "end_time": "2024-06-01T16:48:35.561137300Z",
     "start_time": "2024-06-01T16:48:35.511822700Z"
    }
   },
   "id": "928a48d5032987ac",
   "execution_count": 21
  },
  {
   "cell_type": "code",
   "outputs": [],
   "source": [
    "abc_prob = np.array(frequency.prob)\n",
    "cipher_freq_matrix = np.tile(arr_cipher, (len(abc_prob), 1))\n",
    "distances = np.abs(cipher_freq_matrix.T - abc_prob)\n",
    "z_scores = (distances.min(axis=1) - distances.mean(axis=1)) / distances.std(axis=1)\n",
    "p_values = stats.norm.cdf(z_scores)"
   ],
   "metadata": {
    "collapsed": false,
    "ExecuteTime": {
     "end_time": "2024-06-01T19:09:33.398616Z",
     "start_time": "2024-06-01T19:09:33.381344400Z"
    }
   },
   "id": "564c1be496e10229",
   "execution_count": 138
  },
  {
   "cell_type": "code",
   "outputs": [],
   "source": [
    "closest_letters = np.argsort(distances)[:, :5] + 65"
   ],
   "metadata": {
    "collapsed": false,
    "ExecuteTime": {
     "end_time": "2024-06-01T19:42:15.348833Z",
     "start_time": "2024-06-01T19:42:15.339472900Z"
    }
   },
   "id": "1faf6685167d8717",
   "execution_count": 185
  },
  {
   "cell_type": "code",
   "outputs": [
    {
     "data": {
      "text/plain": "array([[0.00104647, 0.00211647, 0.00444647, 0.00866647, 0.01083647],\n       [0.00159176, 0.00183176, 0.00535176, 0.00581176, 0.00713176],\n       [0.00159176, 0.00183176, 0.00535176, 0.00581176, 0.00713176],\n       [0.02003882, 0.05649882, 0.06538882, 0.07198882, 0.07739882],\n       [0.00159176, 0.00183176, 0.00535176, 0.00581176, 0.00713176],\n       [0.00159176, 0.00183176, 0.00535176, 0.00581176, 0.00713176],\n       [0.00159176, 0.00183176, 0.00535176, 0.00581176, 0.00713176],\n       [0.00159176, 0.00183176, 0.00535176, 0.00581176, 0.00713176],\n       [0.00159176, 0.00183176, 0.00535176, 0.00581176, 0.00713176],\n       [0.00104647, 0.00211647, 0.00444647, 0.00866647, 0.01083647],\n       [0.00104647, 0.00211647, 0.00444647, 0.00866647, 0.01083647],\n       [0.00159176, 0.00183176, 0.00535176, 0.00581176, 0.00713176],\n       [0.00232471, 0.00656529, 0.01316529, 0.01857529, 0.02074529],\n       [0.00159176, 0.00183176, 0.00535176, 0.00581176, 0.00713176],\n       [0.00104647, 0.00211647, 0.00444647, 0.00866647, 0.01083647],\n       [0.04945059, 0.08591059, 0.09480059, 0.10140059, 0.10681059],\n       [0.00159176, 0.00183176, 0.00535176, 0.00581176, 0.00713176],\n       [0.00159176, 0.00183176, 0.00535176, 0.00581176, 0.00713176],\n       [0.00159176, 0.00183176, 0.00535176, 0.00581176, 0.00713176]])"
     },
     "execution_count": 187,
     "metadata": {},
     "output_type": "execute_result"
    }
   ],
   "source": [
    "np.sort(distances)[:, :5]"
   ],
   "metadata": {
    "collapsed": false,
    "ExecuteTime": {
     "end_time": "2024-06-01T19:42:47.221778800Z",
     "start_time": "2024-06-01T19:42:47.215011600Z"
    }
   },
   "id": "7b87b671376922d7",
   "execution_count": 187
  },
  {
   "cell_type": "code",
   "outputs": [
    {
     "name": "stdout",
     "output_type": "stream",
     "text": [
      "0 ['k', 'q', 'j', 'w', 'p']\n",
      "1 ['w', 'a', 'y', 'c', 'r']\n",
      "2 ['x', 'n', 'v', 'l', '}']\n",
      "3 ['r', 'c', 'v', 'x', '~']\n",
      "4 ['V', '@', 'X', 'B', 'S']\n",
      "5 ['n', 'x', '`', 'z', 'k']\n",
      "6 ['|', 'j', 'r', 'h', 'y']\n",
      "7 ['<', '*', '2', '(', '9']\n",
      "8 ['k', '}', 'e', '\\x7f', 'n']\n",
      "9 ['c', 'y', 'b', '\\x7f', 'x']\n",
      "10 ['I', 'S', 'H', 'U', 'R']\n",
      "11 ['}', 'k', 's', 'i', 'x']\n",
      "12 ['b', 'w', 'y', '\\x7f', 'x']\n",
      "13 ['~', 'h', 'p', 'j', '{']\n",
      "14 ['a', '{', '`', '}', 'z']\n",
      "15 ['=', ',', '9', '7', '1']\n",
      "16 ['y', 'o', 'w', 'm', '|']\n",
      "17 ['\\x7f', 'i', 'q', 'k', 'z']\n",
      "18 ['h', '~', 'f', '|', 'm']\n"
     ]
    }
   ],
   "source": [
    "for idx, row in enumerate(closest_letters):\n",
    "    keys = []\n",
    "    for jdx, letter in enumerate(row):\n",
    "        keys.append(chr(letter ^ ord(unique_letters[idx])))\n",
    "    print(idx, keys)"
   ],
   "metadata": {
    "collapsed": false,
    "ExecuteTime": {
     "end_time": "2024-06-01T19:41:56.063661300Z",
     "start_time": "2024-06-01T19:41:56.057695500Z"
    }
   },
   "id": "7f5e41f0fa7dd010",
   "execution_count": 184
  },
  {
   "cell_type": "code",
   "outputs": [],
   "source": [
    "for letter in ascii_cipher:\n",
    "    print()"
   ],
   "metadata": {
    "collapsed": false
   },
   "id": "ab2615f7869ac426"
  }
 ],
 "metadata": {
  "kernelspec": {
   "display_name": "Python 3",
   "language": "python",
   "name": "python3"
  },
  "language_info": {
   "codemirror_mode": {
    "name": "ipython",
    "version": 2
   },
   "file_extension": ".py",
   "mimetype": "text/x-python",
   "name": "python",
   "nbconvert_exporter": "python",
   "pygments_lexer": "ipython2",
   "version": "2.7.6"
  }
 },
 "nbformat": 4,
 "nbformat_minor": 5
}
